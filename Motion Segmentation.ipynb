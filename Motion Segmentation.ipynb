{
 "cells": [
  {
   "cell_type": "code",
   "execution_count": 1,
   "metadata": {},
   "outputs": [],
   "source": [
    "import numpy as np\n",
    "import cv2\n",
    "import matplotlib.pyplot as plt\n",
    "cap = cv2.VideoCapture(\"vtest.avi\")"
   ]
  },
  {
   "cell_type": "code",
   "execution_count": 2,
   "metadata": {},
   "outputs": [],
   "source": [
    "def OpticalFlowMS(cap):\n",
    "    ret, frame1 = cap.read()\n",
    "    prvs = cv2.cvtColor(frame1,cv2.COLOR_BGR2GRAY)\n",
    "    hsv = np.zeros_like(frame1)\n",
    "    hsv[...,1] = 255\n",
    "    count = 0\n",
    "    while(count<3000):\n",
    "        ret, frame2 = cap.read()\n",
    "        next = cv2.cvtColor(frame2,cv2.COLOR_BGR2GRAY)\n",
    "        flow = cv2.calcOpticalFlowFarneback(prvs,next,flow=None,pyr_scale=0.5, levels=3, winsize=15,\n",
    "                                            iterations=3,\n",
    "                                            poly_n=5, poly_sigma=1.2, flags=0)\n",
    "        mag, ang = cv2.cartToPolar(flow[...,0], flow[...,1])\n",
    "        hsv[...,0] = ang*180/np.pi/2\n",
    "        hsv[...,2] = cv2.normalize(mag,None,0,255,cv2.NORM_MINMAX)\n",
    "        bgr = cv2.cvtColor(hsv,cv2.COLOR_HSV2BGR)\n",
    "        cv2.imshow('frame2',bgr)\n",
    "        cv2.imshow('frame1',frame2)\n",
    "        k = cv2.waitKey(30) & 0xff\n",
    "        if k == 27:\n",
    "            break\n",
    "        elif k == ord('s'):\n",
    "            cv2.imwrite('opticalfb.png',frame2)\n",
    "            cv2.imwrite('opticalhsv.png',bgr)\n",
    "        prvs = next\n",
    "        count += 1\n",
    "    cap.release()\n",
    "    cv2.destroyAllWindows()"
   ]
  },
  {
   "cell_type": "code",
   "execution_count": 3,
   "metadata": {},
   "outputs": [],
   "source": [
    "def BackgroundSubstractionMS(cap):\n",
    "    fgbg = cv2.createBackgroundSubtractorMOG2()\n",
    "    ret, frame = cap.read()\n",
    "    count = 0\n",
    "    while(count<300):\n",
    "        ret, frame = cap.read()\n",
    "        count+=1\n",
    "        fgmask = fgbg.apply(frame)\n",
    "        cv2.imshow('fgmask',frame)\n",
    "        cv2.imshow('frame',fgmask)\n",
    "\n",
    "        k = cv2.waitKey(30) & 0xff\n",
    "        if k == 27:\n",
    "            break\n",
    "\n",
    "    cap.release()\n",
    "    cv2.destroyAllWindows()"
   ]
  },
  {
   "cell_type": "code",
   "execution_count": 4,
   "metadata": {},
   "outputs": [],
   "source": [
    "# OpticalFlowMS(cap)"
   ]
  },
  {
   "cell_type": "code",
   "execution_count": 5,
   "metadata": {},
   "outputs": [],
   "source": [
    "# BackgroundSubstractionMS(cap)"
   ]
  },
  {
   "cell_type": "code",
   "execution_count": null,
   "metadata": {},
   "outputs": [],
   "source": []
  }
 ],
 "metadata": {
  "kernelspec": {
   "display_name": "Python 3",
   "language": "python",
   "name": "python3"
  },
  "language_info": {
   "codemirror_mode": {
    "name": "ipython",
    "version": 3
   },
   "file_extension": ".py",
   "mimetype": "text/x-python",
   "name": "python",
   "nbconvert_exporter": "python",
   "pygments_lexer": "ipython3",
   "version": "3.6.6"
  }
 },
 "nbformat": 4,
 "nbformat_minor": 2
}
